{
 "cells": [
  {
   "cell_type": "markdown",
   "metadata": {
    "id": "t5JqrpJWoNaB"
   },
   "source": [
    "# CRAFT fine-tuning and inference interactive demo\n",
    "\n",
    "This example notebook shows how to fine-tune a pretrained CRAFT conversational model for the task of forecasting conversational derailment, as shown in the \"Trouble on the Horizon\" paper (note however that due to nondeterminism in the training process, the results will not exactly reproduce the ones shown in the paper; if you need the exact inference results from the paper, see our [online demo](https://colab.research.google.com/drive/1GvICZN0VwZQSWw3pJaEVY-EQGoO-L5lH) that does inference only using the saved already-fine-tuned model from the paper)."
   ]
  },
  {
   "cell_type": "code",
   "execution_count": 1,
   "metadata": {
    "colab": {
     "base_uri": "https://localhost:8080/",
     "height": 74
    },
    "id": "RHkNojY7tzAh",
    "outputId": "a9d10e05-c6db-401f-a651-20bb60a3c095"
   },
   "outputs": [],
   "source": [
    "# import necessary libraries, including convokit\n",
    "import torch\n",
    "from torch.jit import script, trace\n",
    "import torch.nn as nn\n",
    "from torch import optim\n",
    "import torch.nn.functional as F\n",
    "import pandas as pd\n",
    "import numpy as np\n",
    "import matplotlib.pyplot as plt\n",
    "import os\n",
    "import requests\n",
    "import sys\n",
    "import random\n",
    "import unicodedata\n",
    "import itertools\n",
    "from urllib.request import urlretrieve\n",
    "from convokit import download, Corpus\n",
    "\n",
    "# import all configuration variables\n",
    "from model.config import *\n",
    "# import data preprocessing functions\n",
    "from model.data import *\n",
    "# import our custom PyTorch modules\n",
    "from model.model import *\n",
    "\n",
    "%matplotlib inline\n",
    "\n",
    "# model download paths\n",
    "WORD2INDEX_URL = \"http://zissou.infosci.cornell.edu/convokit/models/craft_wikiconv/word2index.json\"\n",
    "INDEX2WORD_URL = \"http://zissou.infosci.cornell.edu/convokit/models/craft_wikiconv/index2word.json\"\n",
    "MODEL_URL = \"http://zissou.infosci.cornell.edu/convokit/models/craft_wikiconv/craft_pretrained.tar\""
   ]
  },
  {
   "cell_type": "markdown",
   "metadata": {
    "id": "L_w8yFiXuCpg"
   },
   "source": [
    "## Part 1: set up data preprocessing utilities\n",
    "\n",
    "We begin by setting up some helper functions for preprocessing the ConvoKit Utterance data for use with CRAFT."
   ]
  },
  {
   "cell_type": "code",
   "execution_count": 2,
   "metadata": {
    "id": "0SazSyux7KFS"
   },
   "outputs": [],
   "source": [
    "# Given a ConvoKit conversation, preprocess each utterance's text by tokenizing and truncating.\n",
    "# Returns the processed dialog entry where text has been replaced with a list of\n",
    "# tokens, each no longer than MAX_LENGTH - 1 (to leave space for the EOS token)\n",
    "def processDialog(voc, dialog):\n",
    "    processed = []\n",
    "    for utterance in dialog.iter_utterances():\n",
    "        # skip the section header, which does not contain conversational content\n",
    "        if utterance.meta['is_section_header']:\n",
    "            continue\n",
    "        tokens = tokenize(utterance.text)\n",
    "        # replace out-of-vocabulary tokens\n",
    "        for i in range(len(tokens)):\n",
    "            if tokens[i] not in voc.word2index:\n",
    "                tokens[i] = \"UNK\"\n",
    "        processed.append({\"tokens\": tokens, \"is_attack\": int(utterance.meta['comment_has_personal_attack']), \"id\": utterance.id})\n",
    "    return processed\n",
    "\n",
    "# Load context-reply pairs from the Corpus, optionally filtering to only conversations\n",
    "# from the specified split (train, val, or test).\n",
    "# Each conversation, which has N comments (not including the section header) will\n",
    "# get converted into N-1 comment-reply pairs, one pair for each reply \n",
    "# (the first comment does not reply to anything).\n",
    "# Each comment-reply pair is a tuple consisting of the conversational context\n",
    "# (that is, all comments prior to the reply), the reply itself, the label (that\n",
    "# is, whether the reply contained a derailment event), and the comment ID of the\n",
    "# reply (for later use in re-joining with the ConvoKit corpus).\n",
    "# The function returns a list of such pairs.\n",
    "def loadPairs(voc, corpus, split=None, last_only=False):\n",
    "    pairs = []\n",
    "    for convo in corpus.iter_conversations():\n",
    "        # consider only conversations in the specified split of the data\n",
    "        if split is None or convo.meta['split'] == split:\n",
    "            dialog = processDialog(voc, convo)\n",
    "            iter_range = range(1, len(dialog)) if not last_only else [len(dialog)-1]\n",
    "            for idx in iter_range:\n",
    "                reply = dialog[idx][\"tokens\"][:(MAX_LENGTH-1)]\n",
    "                label = dialog[idx][\"is_attack\"]\n",
    "                comment_id = dialog[idx][\"id\"]\n",
    "                # gather as context all utterances preceding the reply\n",
    "                context = [u[\"tokens\"][:(MAX_LENGTH-1)] for u in dialog[:idx]]\n",
    "                pairs.append((context, reply, label, comment_id))\n",
    "    return pairs"
   ]
  },
  {
   "cell_type": "markdown",
   "metadata": {
    "id": "o_ev-7g-xsGQ"
   },
   "source": [
    "## Part 2: load the data\n",
    "\n",
    "Now we load the labeled corpus (Wikiconv or Reddit CMV) from ConvoKit, and run some transformations to prepare it for use with PyTorch"
   ]
  },
  {
   "cell_type": "code",
   "execution_count": 3,
   "metadata": {
    "colab": {
     "base_uri": "https://localhost:8080/",
     "height": 35
    },
    "id": "Y96SXcp4x1yj",
    "outputId": "64557a00-453c-44c0-f334-b5ae83508231"
   },
   "outputs": [
    {
     "name": "stdout",
     "output_type": "stream",
     "text": [
      "Dataset already exists at /Users/administrator/.convokit/downloads/conversations-gone-awry-corpus\n"
     ]
    }
   ],
   "source": [
    "if corpus_name == \"wikiconv\":\n",
    "    corpus = Corpus(filename=download(\"conversations-gone-awry-corpus\"))\n",
    "elif corpus_name == \"cmv\":\n",
    "    corpus = Corpus(filename=download(\"conversations-gone-awry-cmv-corpus\"))"
   ]
  },
  {
   "cell_type": "code",
   "execution_count": 4,
   "metadata": {
    "colab": {
     "base_uri": "https://localhost:8080/",
     "height": 72
    },
    "id": "fPySt5a4yLId",
    "outputId": "18931f88-572d-4c39-e5da-df3eca9c078c"
   },
   "outputs": [
    {
     "name": "stdout",
     "output_type": "stream",
     "text": [
      "30021\n",
      "8069\n",
      "4188\n"
     ]
    }
   ],
   "source": [
    "# let's check some quick stats to verify that the corpus loaded correctly\n",
    "print(len(corpus.get_utterance_ids()))\n",
    "print(len(corpus.get_speaker_ids()))\n",
    "print(len(corpus.get_conversation_ids()))"
   ]
  },
  {
   "cell_type": "code",
   "execution_count": 5,
   "metadata": {
    "colab": {
     "base_uri": "https://localhost:8080/",
     "height": 74
    },
    "id": "eeNfs0A-yosu",
    "outputId": "61b9f041-d59f-4f5a-a65b-ce9631c02336"
   },
   "outputs": [
    {
     "name": "stdout",
     "output_type": "stream",
     "text": [
      "{'obj_type': 'conversation', '_owner': <convokit.model.corpus.Corpus object at 0x111207e80>, 'meta': {'page_title': 'User talk:2005', 'page_id': 1003212, 'pair_id': '143890867.11926.11926', 'conversation_has_personal_attack': False, 'verified': True, 'pair_verified': True, 'annotation_year': '2018', 'split': 'train'}, '_id': '146743638.12652.12652', 'vectors': [], '_utterance_ids': ['146743638.12652.12652', '146743638.12667.12652', '146842219.12874.12874', '146860774.13072.13072'], '_speaker_ids': None, 'tree': None}\n",
      "Utterance(id: '146743638.12652.12652', conversation_id: 146743638.12652.12652, reply-to: None, speaker: Speaker(id: Sirex98, vectors: [], meta: {}), timestamp: 1185295934.0, text: '== [WIKI_LINK: WP:COMMONNAME] ==\\n', vectors: [], meta: {'is_section_header': True, 'comment_has_personal_attack': False, 'toxicity': 0, 'parsed': [{'rt': 3, 'toks': [{'tok': '=', 'tag': 'NFP', 'dep': 'punct', 'up': 3, 'dn': []}, {'tok': '=', 'tag': 'LS', 'dep': 'punct', 'up': 3, 'dn': []}, {'tok': '[', 'tag': '-LRB-', 'dep': 'punct', 'up': 3, 'dn': []}, {'tok': 'WIKI_LINK', 'tag': 'JJ', 'dep': 'ROOT', 'dn': [0, 1, 2, 4]}, {'tok': ':', 'tag': ':', 'dep': 'punct', 'up': 3, 'dn': []}]}, {'rt': 0, 'toks': [{'tok': 'WP', 'tag': 'NNP', 'dep': 'ROOT', 'dn': [1, 2, 5]}, {'tok': ':', 'tag': ':', 'dep': 'punct', 'up': 0, 'dn': []}, {'tok': 'COMMONNAME', 'tag': 'NNPS', 'dep': 'appos', 'up': 0, 'dn': [3]}, {'tok': ']', 'tag': '-RRB-', 'dep': 'punct', 'up': 2, 'dn': []}, {'tok': '=', 'tag': 'SYM', 'dep': 'punct', 'up': 5, 'dn': []}, {'tok': '=', 'tag': 'SYM', 'dep': 'punct', 'up': 0, 'dn': [4, 6]}, {'tok': '\\n', 'tag': '', 'dep': '', 'up': 5, 'dn': []}]}]})\n"
     ]
    }
   ],
   "source": [
    "# Let's also take a look at some example data to see what kinds of information/metadata are available to us\n",
    "print(list(corpus.iter_conversations())[0].__dict__)\n",
    "print(list(corpus.iter_utterances())[0])"
   ]
  },
  {
   "cell_type": "markdown",
   "metadata": {
    "id": "v3QIoTtbzOfY"
   },
   "source": [
    "Now we can use the utilities defined in Part 1 to convert the ConvoKit conversational data into a tokenized form that can be straightforwardly turned into Tensors later."
   ]
  },
  {
   "cell_type": "code",
   "execution_count": 6,
   "metadata": {
    "id": "WlpbT72FxK8W"
   },
   "outputs": [],
   "source": [
    "# Create a Voc object from precomputed data structures\n",
    "def loadPrecomputedVoc(corpus_name, word2index_url, index2word_url):\n",
    "    # load the word-to-index lookup map\n",
    "    r = requests.get(word2index_url)\n",
    "    word2index = r.json()\n",
    "    # load the index-to-word lookup map\n",
    "    r = requests.get(index2word_url)\n",
    "    index2word = r.json()\n",
    "    return Voc(corpus_name, word2index, index2word)\n",
    "\n",
    "# First, we need to build the vocabulary so that we know how to map tokens to tensor indicies.\n",
    "# For the sake of replicating the paper results, we will load the pre-computed vocabulary objects used in the paper.\n",
    "voc = loadPrecomputedVoc(corpus_name, WORD2INDEX_URL, INDEX2WORD_URL)"
   ]
  },
  {
   "cell_type": "code",
   "execution_count": 7,
   "metadata": {
    "colab": {
     "base_uri": "https://localhost:8080/",
     "height": 72
    },
    "id": "eRSAVrgSxhmD",
    "outputId": "a682ac56-5ec9-4a88-fdce-fc9fb08aa104"
   },
   "outputs": [
    {
     "name": "stdout",
     "output_type": "stream",
     "text": [
      "50004\n",
      "[('UNK', 3), ('.', 4), ('the', 5), (\"'\", 6), (',', 7), ('to', 8), ('i', 9), ('of', 10), ('a', 11), ('and', 12)]\n",
      "[('0', 'PAD'), ('1', 'SOS'), ('2', 'EOS'), ('3', 'UNK'), ('4', '.'), ('5', 'the'), ('6', \"'\"), ('7', ','), ('8', 'to'), ('9', 'i')]\n"
     ]
    }
   ],
   "source": [
    "# Inspect the Voc object to make sure it loaded correctly\n",
    "print(voc.num_words) # expected vocab size is 50004: it was built using a fixed vocab size of 50k plus 4 spots for special tokens PAD, SOS, EOS, and UNK.\n",
    "print(list(voc.word2index.items())[:10])\n",
    "print(list(voc.index2word.items())[:10])"
   ]
  },
  {
   "cell_type": "code",
   "execution_count": 8,
   "metadata": {
    "id": "pmaWfn7vyTjy"
   },
   "outputs": [],
   "source": [
    "# Convert the test set data into a list of input/label pairs. Each input will represent the conversation as a list of lists of tokens.\n",
    "train_pairs = loadPairs(voc, corpus, \"train\", True)\n",
    "val_pairs = loadPairs(voc, corpus, \"val\", True)\n",
    "test_pairs = loadPairs(voc, corpus, \"test\")"
   ]
  },
  {
   "cell_type": "code",
   "execution_count": 9,
   "metadata": {
    "colab": {
     "base_uri": "https://localhost:8080/",
     "height": 184
    },
    "id": "RIiQNvg4zBEi",
    "outputId": "11d7b50b-bc00-4080-d4ce-9294b3988194"
   },
   "outputs": [
    {
     "name": "stdout",
     "output_type": "stream",
     "text": [
      "2508\n",
      "840\n",
      "4365\n",
      "([['i', 'notice', 'that', 'UNK', 'that', 'moved', 'UNK', 'to', 'bill', 'chen', 'citing', 'UNK', ',', 'then', 'you', 'reverted', 'this', 'change', ',', 'bill', 'chen', 'doesn', \"'\", 't', 'commonly', 'go', 'by', 'william', ',', 'his', 'book', 'is', 'even', 'penned', 'as', 'bill', 'chen', '.', 'from', 'what', 'i', 'read', 'in', 'wp', ':', 'commonname', 'UNK', 'seems', 'to', 'be', 'correct', ',', 'examples', 'given', 'are', 'names', 'such', 'as', ':', '*', 'UNK', '(', 'not', 'UNK', ')', '*', 'UNK', '(', 'not', 'UNK', ')', 'i', 'think', 'this', 'revert', 'may', 'have', 'been', 'a'], ['chen', 'was', 'known', 'in', 'the', 'poker', 'world', 'as', '\"', 'william', '\"', 'for', 'years', 'before', 'he', 'became', 'commonly', 'known', 'as', '\"', 'bill', '\"', '.', 'i', 'changed', 'it', 'back', 'because', 'incidences', 'online', 'including', 'usenet', 'are', 'roughly', 'equal', ',', 'nothing', 'at', 'all', 'like', 'bill', 'clinton', 'and', 'william', 'clinton', ',', 'and', 'in', 'equal', 'cases', 'using', 'the', 'real', 'name', 'seems', 'the', 'best', 'choice', '.', '(', 'the', 'UNK', 'page', 'is', 'especially', 'UNK', '.', '.', '.', 'UNK', 'in', 'the', 'page', 'title', ',', 'bill', 'in', 'the', 'page']], ['i', 'see', 'what', 'you', 'saying', 'i', 'just', 'read', 'his', 'UNK', 'profile', ',', 'it', 'struck', 'me', 'when', 'i', 'saw', 'the', 'change', 'because', 'i', 'remember', 'him', 'being', 'called', 'bill', 'when', 'i', 'watched', 'the', 'last', 'season', 'of', 'high', 'stakes', 'poker', ',', 'but', 'you', 'seem', 'to', 'have', 'many', 'more', 'years', 'experience', 'in', 'the', 'poker', '/', 'gambling', 'world', 'then', 'i', 'do', '(', 'i', \"'\", 'm', 'still', 'a', 'bit', 'of', 'a', 'newbie', ')', ',', 'so', 'i', 'wanted', 'to', 'check', 'with', 'you', 'first', '.', 'btw', 'as'], 0, '146860774.13072.13072')\n",
      "([['no', 'more', 'than', 'two', 'editors', 'advocated', 'deletion', '.', 'UNK', 'and', 'maybe', 'UNK', '.', 'that', \"'\", 's', 'not', 'a', 'clear', 'consensus', 'for', 'deletion', '.', 'cheers', ','], ['in', 'the', 'future', 'please', 'don', \"'\", 't', 'close', 'afds', 'when', 'you', 'don', \"'\", 't', 'have', 'the', 'courtesy', 'of', 'reading', 'the', 'comments', '.', 'all', 'comments', 'favored', 'deletion', 'except', 'two', '.', 'please', 'don', \"'\", 't', 'be', 'so', 'careless', 'in', 'the', 'future', '.'], ['that', 'simply', 'isn', \"'\", 't', 'true', '.', 'if', 'you', 'read', 'the', 'comments', ',', 'you', \"'\", 'll', 'find', 'it', \"'\", 's', 'actually', '2', 'keep', ',', '4', 'transwiki', ',', '2', 'delete', '(', 'more', 'or', 'less', ')', '.', 'the', \"'\", \"'\", 'comments', \"'\", \"'\", 'favour', 'no', 'consensus', '/', 'transwiki', '.', 'the', '\"', 'votes', '\"', 'favour', 'delete', ',', 'but', 'voting', 'is', 'evil', ',', 'of', 'course', '.', '.', '.'], ['somehow', ',', 'i', 'suspect', 'you', 'may', 'wish', 'to', 'participate', 'in', 'UNK', 'discussion', '.', 'cheers', ',']], ['i', 'assume', 'your', 'deliberate', 'lying', 'has', 'a', 'point', ',', 'but', 'get', 'over', 'it', '.', 'stop', 'bizarrely', 'goin', 'on', 'about', 'UNK', '.', 'that', 'has', 'nothing', 'to', 'do', 'with', 'the', 'afd', '.', 'there', 'was', 'a', 'plain', 'consensus', 'for', 'deleting', 'the', 'article', '.', 'UNK', 'is', 'completely', 'unrelated', '.', 'please', 'don', \"'\", 't', 'be', 'so', 'deliberately', 'obtuse', 'in', 'the', 'future', '.', 'wasting', 'other', 'people', \"'\", 's', 'time', 'is', 'simply', 'rude', '.'], 1, '144065917.12226.12226')\n",
      "([['if', 'you', 'have', 'problems', 'with', 'my', 'edits', 'to', 'the', 'UNK', 'page', 'please', 'let', 'me', 'know', ',', 'do', 'not', 'just', 'revert', 'the', 'edits', '.', 'although', 'the', 'UNK', 'article', 'is', 'very', 'accurate', 'the', 'introduction', 'is', 'riddled', 'with', 'errors', ',', 'which', 'i', 'corrected', '.', 'i', 'think', 'it', 'is', 'everyone', \"'\", 's', 'best', 'interests', 'to', 'make', 'wiki', 'pages', 'as', 'accurate', 'as', 'possible', 'and', 'the', 'four', 'wheel', 'drive', 'article', 'is', 'not', 'a', 'UNK', 'example', 'of', 'this', '.', 'i', '.', 'e', '.', 'all', '-', 'wheel'], ['*', 'shrug', '*', 'it', '*', 'is', '*', 'just', 'a', 'marketing', 'term', '.', 'i', 'wish', 'you', 'lot', 'would', 'stop', 'editing', 'it', 'otherwise', '.', 'UNK', '.']], ['although', 'UNK', 'can', 'be', 'considered', 'a', 'form', 'of', 'UNK', 'it', 'is', 'not', 'the', 'same', 'drive', 'train', 'type', 'as', 'part', '-', 'time', 'UNK', '.', 'so', 'i', 'would', 'have', 'to', 'say', 'calling', 'it', 'just', 'a', 'marketing', 'term', 'is', 'a', 'narrow', 'minded', 'and', 'inaccurate', 'statement', '.', 'even', 'though', 'they', 'are', 'similar', 'you', 'can', \"'\", 't', 'just', 'UNK', 'them', 'into', 'the', 'same', 'group', '.', 'if', ',', 'as', 'you', 'say', ',', 'UNK', 'is', 'just', 'a', 'marketing', 'term', 'then', 'taking', 'a', 'turn', 'in', 'a', 'audi'], 0, '127772860.903.903')\n",
      "([['please', 'stop', 'removing', 'and', 'altering', 'other', 'editors', \"'\", 'comments', '.', 'what', 'appeared', 'to', 'be', 'valid', 'concern', 'is', 'quickly', 'descending', 'into', 'trolling', ',', 'and', 'if', 'you', 'continue', ',', 'you', 'may', 'be', 'blocked', 'from', 'editing', '.', 'stop', 'it', '.', '-'], ['well', 'please', 'stop', 'posting', 'incorrect', 'information', '.', 'if', 'you', 'were', 'right', 'i', \"'\", 'd', 'agree', 'with', 'you', ',', 'and', 'i', 'am', 'not', 'trolling', '.'], ['UNK', 'is', 'trolling', ',', 'as', 'is', 'removing', 'other', 'people', \"'\", 's', 'comments', '.', 'look', ',', 'wikipedia', 'is', 'built', 'on', 'consensus', ',', 'and', 'consensus', 'has', 'it', 'that', 'we', 'use', 'american', 'style', 'for', 'american', 'subjects', '.', 'end', 'of', 'story', '.', 'any', 'more', 'complaint', 'about', 'trolling', 'about', 'this', 'topic', 'and', 'i', \"'\", 'll', 'report', 'you', 'myself', '.']], ['bullshit', '.', 'i', 'am', 'correcting', 'a', 'simple', 'mistake', '.', 'if', 'i', 'was', 'trolling', 'i', \"'\", 'd', 'be', 'doing', 'damage', 'to', 'the', 'page', ',', 'yet', 'i', 'am', 'not', '.', 'what', 'was', 'written', 'is', 'wrong', ',', 'simple', 'as', 'that', '.', 'all', 'i', 'have', 'done', 'is', 'disagree', 'with', 'what', 'was', 'written', 'and', 'written', 'as', 'such', '.', 'if', 'that', \"'\", 's', 'trolling', 'then', 'you', 'are', 'guilty', 'as', 'well', '.', 'and', 'stop', 'UNK', 'my', 'page', 'dickhead', '.', 'UNK', '.'], 1, '144645449.1479.1479')\n",
      "([['please', 'stop', 'including', 'disreputable', 'sources', 'for', 'this', 'article', '.', 'wikipedia', 'policy', 'is', 'quite', 'clear', 'on', 'this', 'matter', 'blogs', 'and', 'other', 'websites', 'which', 'do', 'not', 'employ', 'editorial', 'oversight', 'of', 'authors', \"'\", 'work', 'are', 'not', 'permitted', 'as', 'sources', 'here', '.', 'please', 'stop', 'adding', 'blogs', '.'], ['please', 'stop', 'deleting', 'reputable', 'sources', 'from', 'this', 'article', '.', 'you', 'have', 'deleted', 'joe', 'wilson', \"'\", 's', 'nyt', 'article', 'that', 'is', 'a', 'key', 'factor', 'in', 'this', 'whole', 'controversy', '!', 'among', 'others', '.', 'simply', 'because', 'the', 'article', 'is', 'printed', 'on', 'a', 'different', 'site', 'does', 'not', 'mean', 'it', 'is', 'sourced', 'to', 'a', '\"', 'heinous', 'blog', '\"', '(', 'which', 'the', 'site', 'is', 'not', 'anyway', ')', '.', 'if', 'you', 'find', 'a', 'better', 'place', 'that', 'the', 'article', 'exists', ',', 'put', 'it', 'there', '.', 'or', 'if'], ['the', 'american', 'prospect', 'article', 'should', 'stay', '-', 'american', 'prospect', 'easily', 'meets', 'UNK', '.', 'the', 'cooperative', 'research', 'project', 'link', 'should', 'be', 'nuked', 'and', 'should', 'stay', 'nuked', '-', 'i', 'see', 'no', 'evidence', 'that', 'it', \"'\", 's', 'a', 'reliable', 'source', '.', 'factcheck', '.', 'org', 'is', 'reliable', 'enough', 'that', 'the', 'vice', 'president', 'of', 'the', 'united', 'states', '(', 'incorrectly', ')', 'cited', 'it', 'in', 'his', 'debate', 'as', 'an', 'authoritative', 'source', ';', 'they', 'have', 'a', 'good', 'reputation', ',', 'and', 'their', 'very', \"'\", \"'\", 'purpose', \"'\", \"'\"], ['agreed', 'UNK', 'cooperative', 'research', 'but', 'not', 'the', 'alternet', 'citation', '-', 'they', 'are', 'transcribing', 'an', 'interview', 'on', 'a', 'well', 'known', 'radio', 'show', 'with', 'a', 'well', 'known', 'source', 'with', 'expertise', 'on', 'this', 'topic', 'whose', 'comments', 'are', 'cited', 'in', 'numerous', 'mainstream', 'sources', '.', 'if', 'you', 'have', 'a', 'better', 'source', 'for', 'the', 'transcript', 'that', 'is', 'fine', 'but', 'you', 'cannot', 'just', 'delete', 'it', 'because', 'it', 'is', '\"', 'edited', '\"', '-', 'unless', 'you', 'have', 'evidence', 'that', 'they', 'are', 'making', 'stuff', 'up', ',', 'we', 'must', 'presume'], ['actually', ',', 'especially', 'with', 'alternet', ',', 'we', \"'\", \"'\", 'can', \"'\", 't', \"'\", \"'\", 'assume', 'good', 'faith', ';', 'we', 'need', 'to', 'do', 'exactly', 'the', 'opposite', '.', 'we', 'need', 'to', 'examine', 'sources', 'critically', ',', 'according', 'to', 'the', 'guidelines', 'on', 'UNK', '.', 'were', 'it', 'to', 'be', 'a', 'verbatim', 'copy', ',', 'perhaps', 'we', 'could', 'accept', 'it', 'as', 'a', 'source', '(', \"'\", \"'\", 'perhaps', \"'\", \"'\", 'being', 'absolutely', 'critical', ')', ',', 'but', 'because', 'it', \"'\", 's', 'edited', 'and', 'doesn', \"'\", 't', 'contain', 'information']], ['(', '1', ')', 'please', 'substantiate', 'that', 'the', 'source', 'is', '\"', 'notoriously', 'unreliable', '.', '\"', '(', '2', ')', 'please', 'indicate', 'where', 'it', 'says', 'we', 'should', 'assume', 'bad', 'faith', 'with', 'sources', 'that', 'are', 'transcripts', 'of', 'interviews', '(', 'i', 'know', 'the', 'quote', 'in', 'the', 'article', 'is', 'directly', 'from', 'the', 'interview', 'as', 'i', 'listened', 'to', 'the', 'interview', 'myself', ';', 'i', 'also', 'have', 'looked', 'at', 'the', 'transcript', 'and', 'do', 'not', 'see', 'anything', 'that', 'is', 'different', 'from', 'what', 'i', 'heard', ';', 'but', 'apparently', 'i', 'should'], 0, '67176052.25110.25110')\n"
     ]
    }
   ],
   "source": [
    "# Validate the conversion by checking data size and some samples\n",
    "print(len(train_pairs))\n",
    "print(len(val_pairs))\n",
    "print(len(test_pairs))\n",
    "for p in train_pairs[:5]:\n",
    "    print(p)"
   ]
  },
  {
   "cell_type": "markdown",
   "metadata": {
    "id": "ghTVeRFK0CUe"
   },
   "source": [
    "## Part 3: define the inference pipeline\n",
    "\n",
    "CRAFT inference consists of three steps: (1) using the utterance encoder to produce embeddings of each comment in the context (2) running the comment embeddings through the context encoder to get a final representation of conversational context (3) running the classifier head on the context embedding. To streamline the subsequent code, we encapsulate these three steps in a single PyTorch `nn.Module`."
   ]
  },
  {
   "cell_type": "code",
   "execution_count": 10,
   "metadata": {
    "id": "ZzAgSRKi0p_I"
   },
   "outputs": [],
   "source": [
    "class Predictor(nn.Module):\n",
    "    \"\"\"This helper module encapsulates the CRAFT pipeline, defining the logic of passing an input through each consecutive sub-module.\"\"\"\n",
    "    def __init__(self, encoder, context_encoder, classifier):\n",
    "        super(Predictor, self).__init__()\n",
    "        self.encoder = encoder\n",
    "        self.context_encoder = context_encoder\n",
    "        self.classifier = classifier\n",
    "        \n",
    "    def forward(self, input_batch, dialog_lengths, dialog_lengths_list, utt_lengths, batch_indices, dialog_indices, batch_size, max_length):\n",
    "        # Forward input through encoder model\n",
    "        _, utt_encoder_hidden = self.encoder(input_batch, utt_lengths)\n",
    "        \n",
    "        # Convert utterance encoder final states to batched dialogs for use by context encoder\n",
    "        context_encoder_input = makeContextEncoderInput(utt_encoder_hidden, dialog_lengths_list, batch_size, batch_indices, dialog_indices)\n",
    "        \n",
    "        # Forward pass through context encoder\n",
    "        context_encoder_outputs, context_encoder_hidden = self.context_encoder(context_encoder_input, dialog_lengths)\n",
    "        \n",
    "        # Forward pass through classifier to get prediction logits\n",
    "        logits = self.classifier(context_encoder_outputs, dialog_lengths)\n",
    "        \n",
    "        # Apply sigmoid activation\n",
    "        predictions = F.sigmoid(logits)\n",
    "        return predictions"
   ]
  },
  {
   "cell_type": "markdown",
   "metadata": {
    "id": "BjC1hgIWGl7g"
   },
   "source": [
    "## Part 4: define training loop\n",
    "\n",
    "Now that we have all the model components defined, we need to define the actual training procedure. This will be a fairly standard neural network training loop, iterating over batches of labeled dialogs and computing cross-entropy loss on the predicted label. We will also define evaluation functions so that we can compute accuracy on the validation set after every epoch, allowing us to keep the model with the best validation performance. Note that for the sake of simpler code, validation accuracy is computed in the \"unfair\" manner using a single run of CRAFT over the full context preceding the actual personal attack, rather than the more realistic (and complicated) iterated evaluation that is used for final evaluation of the test set (in practice the two metrics track each other fairly well, making this a reasonable simplification for the sake of easy validation)."
   ]
  },
  {
   "cell_type": "code",
   "execution_count": 11,
   "metadata": {
    "id": "zIAHOvcdHR_h"
   },
   "outputs": [],
   "source": [
    "def train(input_variable, dialog_lengths, dialog_lengths_list, utt_lengths, batch_indices, dialog_indices, labels, # input/output arguments\n",
    "          encoder, context_encoder, attack_clf,                                                                    # network arguments\n",
    "          encoder_optimizer, context_encoder_optimizer, attack_clf_optimizer,                                      # optimization arguments\n",
    "          batch_size, clip, max_length=MAX_LENGTH):                                                                # misc arguments\n",
    "\n",
    "    # Zero gradients\n",
    "    encoder_optimizer.zero_grad()\n",
    "    context_encoder_optimizer.zero_grad()\n",
    "    attack_clf_optimizer.zero_grad()\n",
    "\n",
    "    # Set device options\n",
    "    input_variable = input_variable.to(device)\n",
    "    dialog_lengths = dialog_lengths.to(device)\n",
    "    utt_lengths = utt_lengths.to(device)\n",
    "    labels = labels.to(device)\n",
    "\n",
    "    # Forward pass through utterance encoder\n",
    "    _, utt_encoder_hidden = encoder(input_variable, utt_lengths)\n",
    "    \n",
    "    # Convert utterance encoder final states to batched dialogs for use by context encoder\n",
    "    context_encoder_input = makeContextEncoderInput(utt_encoder_hidden, dialog_lengths_list, batch_size, batch_indices, dialog_indices)\n",
    "    \n",
    "    # Forward pass through context encoder\n",
    "    context_encoder_outputs, _ = context_encoder(context_encoder_input, dialog_lengths)\n",
    "\n",
    "    # Forward pass through classifier to get prediction logits\n",
    "    logits = attack_clf(context_encoder_outputs, dialog_lengths)\n",
    "    \n",
    "    # Calculate loss\n",
    "    loss = F.binary_cross_entropy_with_logits(logits, labels)\n",
    "\n",
    "    # Perform backpropatation\n",
    "    loss.backward()\n",
    "\n",
    "    # Clip gradients: gradients are modified in place\n",
    "    _ = torch.nn.utils.clip_grad_norm_(encoder.parameters(), clip)\n",
    "    _ = torch.nn.utils.clip_grad_norm_(context_encoder.parameters(), clip)\n",
    "    _ = torch.nn.utils.clip_grad_norm_(attack_clf.parameters(), clip)\n",
    "\n",
    "    # Adjust model weights\n",
    "    encoder_optimizer.step()\n",
    "    context_encoder_optimizer.step()\n",
    "    attack_clf_optimizer.step()\n",
    "\n",
    "    return loss.item()\n",
    "\n",
    "def evaluateBatch(encoder, context_encoder, predictor, voc, input_batch, dialog_lengths, \n",
    "                  dialog_lengths_list, utt_lengths, batch_indices, dialog_indices, batch_size, device, max_length=MAX_LENGTH):\n",
    "    # Set device options\n",
    "    input_batch = input_batch.to(device)\n",
    "    dialog_lengths = dialog_lengths.to(device)\n",
    "    utt_lengths = utt_lengths.to(device)\n",
    "    # Predict future attack using predictor\n",
    "    scores = predictor(input_batch, dialog_lengths, dialog_lengths_list, utt_lengths, batch_indices, dialog_indices, batch_size, max_length)\n",
    "    predictions = (scores > 0.5).float()\n",
    "    return predictions, scores\n",
    "\n",
    "def validate(dataset, encoder, context_encoder, predictor, voc, batch_size, device):\n",
    "    # create a batch iterator for the given data\n",
    "    batch_iterator = batchIterator(voc, dataset, batch_size, shuffle=False)\n",
    "    # find out how many iterations we will need to cover the whole dataset\n",
    "    n_iters = len(dataset) // batch_size + int(len(dataset) % batch_size > 0)\n",
    "    # containers for full prediction results so we can compute accuracy at the end\n",
    "    all_preds = []\n",
    "    all_labels = []\n",
    "    for iteration in range(1, n_iters+1):\n",
    "        batch, batch_dialogs, _, true_batch_size = next(batch_iterator)\n",
    "        # Extract fields from batch\n",
    "        input_variable, dialog_lengths, utt_lengths, batch_indices, dialog_indices, labels, convo_ids, target_variable, mask, max_target_len = batch\n",
    "        dialog_lengths_list = [len(x) for x in batch_dialogs]\n",
    "        # run the model\n",
    "        predictions, scores = evaluateBatch(encoder, context_encoder, predictor, voc, input_variable,\n",
    "                                            dialog_lengths, dialog_lengths_list, utt_lengths, batch_indices, dialog_indices,\n",
    "                                            true_batch_size, device)\n",
    "        # aggregate results for computing accuracy at the end\n",
    "        all_preds += [p.item() for p in predictions]\n",
    "        all_labels += [l.item() for l in labels]\n",
    "        print(\"Iteration: {}; Percent complete: {:.1f}%\".format(iteration, iteration / n_iters * 100))\n",
    "\n",
    "    # compute and return the accuracy\n",
    "    return (np.asarray(all_preds) == np.asarray(all_labels)).mean()\n",
    "\n",
    "def trainIters(voc, pairs, val_pairs, encoder, context_encoder, attack_clf,\n",
    "               encoder_optimizer, context_encoder_optimizer, attack_clf_optimizer, embedding,\n",
    "               n_iteration, batch_size, print_every, validate_every, clip):\n",
    "    \n",
    "    # create a batch iterator for training data\n",
    "    batch_iterator = batchIterator(voc, pairs, batch_size)\n",
    "    \n",
    "    # Initializations\n",
    "    print('Initializing ...')\n",
    "    start_iteration = 1\n",
    "    print_loss = 0\n",
    "\n",
    "    # Training loop\n",
    "    print(\"Training...\")\n",
    "    # keep track of best validation accuracy - only save when we have a model that beats the current best\n",
    "    best_acc = 0\n",
    "    for iteration in range(start_iteration, n_iteration + 1):\n",
    "        training_batch, training_dialogs, _, true_batch_size = next(batch_iterator)\n",
    "        # Extract fields from batch\n",
    "        input_variable, dialog_lengths, utt_lengths, batch_indices, dialog_indices, labels, _, target_variable, mask, max_target_len = training_batch\n",
    "        dialog_lengths_list = [len(x) for x in training_dialogs]\n",
    "\n",
    "        # Run a training iteration with batch\n",
    "        loss = train(input_variable, dialog_lengths, dialog_lengths_list, utt_lengths, batch_indices, dialog_indices, labels, # input/output arguments\n",
    "                     encoder, context_encoder, attack_clf,                                                                    # network arguments\n",
    "                     encoder_optimizer, context_encoder_optimizer, attack_clf_optimizer,                                      # optimization arguments\n",
    "                     true_batch_size, clip)                                                                                   # misc arguments\n",
    "        print_loss += loss\n",
    "        \n",
    "        # Print progress\n",
    "        if iteration % print_every == 0:\n",
    "            print_loss_avg = print_loss / print_every\n",
    "            print(\"Iteration: {}; Percent complete: {:.1f}%; Average loss: {:.4f}\".format(iteration, iteration / n_iteration * 100, print_loss_avg))\n",
    "            print_loss = 0\n",
    "\n",
    "        # Evaluate on validation set\n",
    "        if (iteration % validate_every == 0):\n",
    "            print(\"Validating!\")\n",
    "            # put the network components into evaluation mode\n",
    "            encoder.eval()\n",
    "            context_encoder.eval()\n",
    "            attack_clf.eval()\n",
    "            \n",
    "            predictor = Predictor(encoder, context_encoder, attack_clf)\n",
    "            accuracy = validate(val_pairs, encoder, context_encoder, predictor, voc, batch_size, device)\n",
    "            print(\"Validation set accuracy: {:.2f}%\".format(accuracy * 100))\n",
    "\n",
    "            # keep track of our best model so far\n",
    "            if accuracy > best_acc:\n",
    "                print(\"Validation accuracy better than current best; saving model...\")\n",
    "                best_acc = accuracy\n",
    "                torch.save({\n",
    "                    'iteration': iteration,\n",
    "                    'en': encoder.state_dict(),\n",
    "                    'ctx': context_encoder.state_dict(),\n",
    "                    'atk_clf': attack_clf.state_dict(),\n",
    "                    'en_opt': encoder_optimizer.state_dict(),\n",
    "                    'ctx_opt': context_encoder_optimizer.state_dict(),\n",
    "                    'atk_clf_opt': attack_clf_optimizer.state_dict(),\n",
    "                    'loss': loss,\n",
    "                    'voc_dict': voc.__dict__,\n",
    "                    'embedding': embedding.state_dict()\n",
    "                }, os.path.join(save_dir, \"finetuned_model.tar\"))\n",
    "            \n",
    "            # put the network components back into training mode\n",
    "            encoder.train()\n",
    "            context_encoder.train()\n",
    "            attack_clf.train()"
   ]
  },
  {
   "cell_type": "markdown",
   "metadata": {
    "id": "9eG1p_cH5fw9"
   },
   "source": [
    "## Part 5: define the evaluation procedure\n",
    "\n",
    "We're almost ready to run! The last component we need is some code to evaluate performance on the test set after fine-tuning is completed. This evaluation should use the full iterative procedure described in the paper, replicating how a system might be deployed in practice, without knowledge of where the personal attack occurs"
   ]
  },
  {
   "cell_type": "code",
   "execution_count": 12,
   "metadata": {
    "id": "yZqEcwEJ5bqn"
   },
   "outputs": [],
   "source": [
    "def evaluateDataset(dataset, encoder, context_encoder, predictor, voc, batch_size, device):\n",
    "    # create a batch iterator for the given data\n",
    "    batch_iterator = batchIterator(voc, dataset, batch_size, shuffle=False)\n",
    "    # find out how many iterations we will need to cover the whole dataset\n",
    "    n_iters = len(dataset) // batch_size + int(len(dataset) % batch_size > 0)\n",
    "    output_df = {\n",
    "        \"id\": [],\n",
    "        \"prediction\": [],\n",
    "        \"score\": []\n",
    "    }\n",
    "    for iteration in range(1, n_iters+1):\n",
    "        batch, batch_dialogs, _, true_batch_size = next(batch_iterator)\n",
    "        # Extract fields from batch\n",
    "        input_variable, dialog_lengths, utt_lengths, batch_indices, dialog_indices, labels, convo_ids, target_variable, mask, max_target_len = batch\n",
    "        dialog_lengths_list = [len(x) for x in batch_dialogs]\n",
    "        # run the model\n",
    "        predictions, scores = evaluateBatch(encoder, context_encoder, predictor, voc, input_variable,\n",
    "                                            dialog_lengths, dialog_lengths_list, utt_lengths, batch_indices, dialog_indices,\n",
    "                                            true_batch_size, device)\n",
    "\n",
    "        # format the output as a dataframe (which we can later re-join with the corpus)\n",
    "        for i in range(true_batch_size):\n",
    "            convo_id = convo_ids[i]\n",
    "            pred = predictions[i].item()\n",
    "            score = scores[i].item()\n",
    "            output_df[\"id\"].append(convo_id)\n",
    "            output_df[\"prediction\"].append(pred)\n",
    "            output_df[\"score\"].append(score)\n",
    "                \n",
    "        print(\"Iteration: {}; Percent complete: {:.1f}%\".format(iteration, iteration / n_iters * 100))\n",
    "\n",
    "    return pd.DataFrame(output_df).set_index(\"id\")"
   ]
  },
  {
   "cell_type": "markdown",
   "metadata": {
    "id": "N0VIv8sbOaB6"
   },
   "source": [
    "## Part 6: build and fine-tune the model\n",
    "\n",
    "We finally have all the components we need! Now we can instantiate the CRAFT model components, load the pre-trained weights, and run fine-tuning."
   ]
  },
  {
   "cell_type": "code",
   "execution_count": 13,
   "metadata": {
    "colab": {
     "base_uri": "https://localhost:8080/",
     "height": 1000
    },
    "id": "4QRinW10Oo_G",
    "outputId": "99df8b29-f6cb-4fab-80db-611e73ab3869",
    "scrolled": true
   },
   "outputs": [
    {
     "name": "stdout",
     "output_type": "stream",
     "text": [
      "Loading saved parameters...\n",
      "Building encoders, decoder, and classifier...\n",
      "Models built and ready to go!\n",
      "Building optimizers...\n",
      "Starting Training!\n",
      "Will train for 100 iterations\n",
      "Initializing ...\n",
      "Training...\n",
      "Iteration: 10; Percent complete: 10.0%; Average loss: 0.6884\n",
      "Iteration: 20; Percent complete: 20.0%; Average loss: 0.6845\n",
      "Iteration: 30; Percent complete: 30.0%; Average loss: 0.6802\n",
      "Validating!\n"
     ]
    },
    {
     "name": "stderr",
     "output_type": "stream",
     "text": [
      "/opt/anaconda3/lib/python3.8/site-packages/torch/nn/functional.py:1639: UserWarning: nn.functional.sigmoid is deprecated. Use torch.sigmoid instead.\n",
      "  warnings.warn(\"nn.functional.sigmoid is deprecated. Use torch.sigmoid instead.\")\n"
     ]
    },
    {
     "name": "stdout",
     "output_type": "stream",
     "text": [
      "Iteration: 1; Percent complete: 7.1%\n",
      "Iteration: 2; Percent complete: 14.3%\n",
      "Iteration: 3; Percent complete: 21.4%\n",
      "Iteration: 4; Percent complete: 28.6%\n",
      "Iteration: 5; Percent complete: 35.7%\n",
      "Iteration: 6; Percent complete: 42.9%\n",
      "Iteration: 7; Percent complete: 50.0%\n",
      "Iteration: 8; Percent complete: 57.1%\n",
      "Iteration: 9; Percent complete: 64.3%\n",
      "Iteration: 10; Percent complete: 71.4%\n",
      "Iteration: 11; Percent complete: 78.6%\n",
      "Iteration: 12; Percent complete: 85.7%\n",
      "Iteration: 13; Percent complete: 92.9%\n",
      "Iteration: 14; Percent complete: 100.0%\n",
      "Validation set accuracy: 59.52%\n",
      "Validation accuracy better than current best; saving model...\n",
      "Iteration: 40; Percent complete: 40.0%; Average loss: 0.6693\n",
      "Iteration: 50; Percent complete: 50.0%; Average loss: 0.6632\n",
      "Iteration: 60; Percent complete: 60.0%; Average loss: 0.6661\n",
      "Iteration: 70; Percent complete: 70.0%; Average loss: 0.6552\n",
      "Validating!\n",
      "Iteration: 1; Percent complete: 7.1%\n",
      "Iteration: 2; Percent complete: 14.3%\n",
      "Iteration: 3; Percent complete: 21.4%\n",
      "Iteration: 4; Percent complete: 28.6%\n",
      "Iteration: 5; Percent complete: 35.7%\n",
      "Iteration: 6; Percent complete: 42.9%\n",
      "Iteration: 7; Percent complete: 50.0%\n",
      "Iteration: 8; Percent complete: 57.1%\n",
      "Iteration: 9; Percent complete: 64.3%\n",
      "Iteration: 10; Percent complete: 71.4%\n",
      "Iteration: 11; Percent complete: 78.6%\n",
      "Iteration: 12; Percent complete: 85.7%\n",
      "Iteration: 13; Percent complete: 92.9%\n",
      "Iteration: 14; Percent complete: 100.0%\n",
      "Validation set accuracy: 63.33%\n",
      "Validation accuracy better than current best; saving model...\n",
      "Iteration: 80; Percent complete: 80.0%; Average loss: 0.6483\n",
      "Iteration: 90; Percent complete: 90.0%; Average loss: 0.6385\n",
      "Iteration: 100; Percent complete: 100.0%; Average loss: 0.6276\n"
     ]
    }
   ],
   "source": [
    "# Fix random state (affect native Python code only, does not affect PyTorch and hence does not guarantee reproducibility)\n",
    "random.seed(2019)\n",
    "\n",
    "# Tell torch to use GPU. Note that if you are running this notebook in a non-GPU environment, you can change 'cuda' to 'cpu' to get the code to run.\n",
    "# device = torch.device('cuda')\n",
    "device = torch.device('cpu')\n",
    "\n",
    "print(\"Loading saved parameters...\")\n",
    "# if not os.path.isfile(os.path.join(save_dir, \"model.tar\")):\n",
    "#     raise RuntimeError(\"Pretrained model not found. Have you run pretraining using train_generative_model.py?\")\n",
    "\n",
    "if not os.path.isfile(\"model.tar\"):\n",
    "    print(\"\\tDownloading trained CRAFT...\")\n",
    "    urlretrieve(MODEL_URL, \"model.tar\")\n",
    "    print(\"\\t...Done!\")\n",
    "# checkpoint = torch.load(os.path.join(save_dir, \"model.tar\"))\n",
    "# If running in a non-GPU environment, you need to tell PyTorch to convert the parameters to CPU tensor format.\n",
    "# To do so, replace the previous line with the following:\n",
    "checkpoint = torch.load(\"model.tar\", map_location=torch.device('cpu'))\n",
    "encoder_sd = checkpoint['en']\n",
    "context_sd = checkpoint['ctx']\n",
    "embedding_sd = checkpoint['embedding']\n",
    "voc.__dict__ = checkpoint['voc_dict']\n",
    "\n",
    "print('Building encoders, decoder, and classifier...')\n",
    "# Initialize word embeddings\n",
    "embedding = nn.Embedding(voc.num_words, hidden_size)\n",
    "embedding.load_state_dict(embedding_sd)\n",
    "# Initialize utterance and context encoders\n",
    "encoder = EncoderRNN(hidden_size, embedding, encoder_n_layers, dropout)\n",
    "context_encoder = ContextEncoderRNN(hidden_size, context_encoder_n_layers, dropout)\n",
    "encoder.load_state_dict(encoder_sd)\n",
    "context_encoder.load_state_dict(context_sd)\n",
    "# Initialize classifier\n",
    "attack_clf = SingleTargetClf(hidden_size, dropout)\n",
    "# Use appropriate device\n",
    "encoder = encoder.to(device)\n",
    "context_encoder = context_encoder.to(device)\n",
    "attack_clf = attack_clf.to(device)\n",
    "print('Models built and ready to go!')\n",
    "\n",
    "# Compute the number of training iterations we will need in order to achieve the number of epochs specified in the settings at the start of the notebook\n",
    "n_iter_per_epoch = len(train_pairs) // batch_size + int(len(train_pairs) % batch_size == 1)\n",
    "n_iteration = n_iter_per_epoch * finetune_epochs\n",
    "\n",
    "# Put dropout layers in train mode\n",
    "encoder.train()\n",
    "context_encoder.train()\n",
    "attack_clf.train()\n",
    "\n",
    "# Initialize optimizers\n",
    "print('Building optimizers...')\n",
    "encoder_optimizer = optim.Adam(encoder.parameters(), lr=labeled_learning_rate)\n",
    "context_encoder_optimizer = optim.Adam(context_encoder.parameters(), lr=labeled_learning_rate)\n",
    "attack_clf_optimizer = optim.Adam(attack_clf.parameters(), lr=labeled_learning_rate)\n",
    "\n",
    "# Run training iterations, validating after every epoch\n",
    "print(\"Starting Training!\")\n",
    "print(\"Will train for {} iterations\".format(n_iteration))\n",
    "trainIters(voc, train_pairs, val_pairs, encoder, context_encoder, attack_clf,\n",
    "           encoder_optimizer, context_encoder_optimizer, attack_clf_optimizer, embedding,\n",
    "           n_iteration, batch_size, print_every, n_iter_per_epoch, clip)"
   ]
  },
  {
   "cell_type": "markdown",
   "metadata": {
    "id": "Na5gjZGE-KA0"
   },
   "source": [
    "## Part 7: run test set evaluation\n",
    "\n",
    "Now that we have successfully fine-tuned the model, we run it on the test set so that we can evaluate performance."
   ]
  },
  {
   "cell_type": "code",
   "execution_count": 14,
   "metadata": {
    "colab": {
     "base_uri": "https://localhost:8080/",
     "height": 1000
    },
    "id": "2551GR65-Wm5",
    "outputId": "154d7581-37a7-48e7-c203-9d3a97c472ed"
   },
   "outputs": [
    {
     "name": "stdout",
     "output_type": "stream",
     "text": [
      "Loading saved parameters...\n",
      "Building encoders, decoder, and classifier...\n",
      "Models built and ready to go!\n",
      "Iteration: 1; Percent complete: 1.4%\n",
      "Iteration: 2; Percent complete: 2.9%\n",
      "Iteration: 3; Percent complete: 4.3%\n",
      "Iteration: 4; Percent complete: 5.8%\n",
      "Iteration: 5; Percent complete: 7.2%\n",
      "Iteration: 6; Percent complete: 8.7%\n",
      "Iteration: 7; Percent complete: 10.1%\n",
      "Iteration: 8; Percent complete: 11.6%\n",
      "Iteration: 9; Percent complete: 13.0%\n",
      "Iteration: 10; Percent complete: 14.5%\n",
      "Iteration: 11; Percent complete: 15.9%\n",
      "Iteration: 12; Percent complete: 17.4%\n",
      "Iteration: 13; Percent complete: 18.8%\n",
      "Iteration: 14; Percent complete: 20.3%\n",
      "Iteration: 15; Percent complete: 21.7%\n",
      "Iteration: 16; Percent complete: 23.2%\n",
      "Iteration: 17; Percent complete: 24.6%\n",
      "Iteration: 18; Percent complete: 26.1%\n",
      "Iteration: 19; Percent complete: 27.5%\n",
      "Iteration: 20; Percent complete: 29.0%\n",
      "Iteration: 21; Percent complete: 30.4%\n",
      "Iteration: 22; Percent complete: 31.9%\n",
      "Iteration: 23; Percent complete: 33.3%\n",
      "Iteration: 24; Percent complete: 34.8%\n",
      "Iteration: 25; Percent complete: 36.2%\n",
      "Iteration: 26; Percent complete: 37.7%\n",
      "Iteration: 27; Percent complete: 39.1%\n",
      "Iteration: 28; Percent complete: 40.6%\n",
      "Iteration: 29; Percent complete: 42.0%\n",
      "Iteration: 30; Percent complete: 43.5%\n",
      "Iteration: 31; Percent complete: 44.9%\n",
      "Iteration: 32; Percent complete: 46.4%\n",
      "Iteration: 33; Percent complete: 47.8%\n",
      "Iteration: 34; Percent complete: 49.3%\n",
      "Iteration: 35; Percent complete: 50.7%\n",
      "Iteration: 36; Percent complete: 52.2%\n",
      "Iteration: 37; Percent complete: 53.6%\n",
      "Iteration: 38; Percent complete: 55.1%\n",
      "Iteration: 39; Percent complete: 56.5%\n",
      "Iteration: 40; Percent complete: 58.0%\n",
      "Iteration: 41; Percent complete: 59.4%\n",
      "Iteration: 42; Percent complete: 60.9%\n",
      "Iteration: 43; Percent complete: 62.3%\n",
      "Iteration: 44; Percent complete: 63.8%\n",
      "Iteration: 45; Percent complete: 65.2%\n",
      "Iteration: 46; Percent complete: 66.7%\n",
      "Iteration: 47; Percent complete: 68.1%\n",
      "Iteration: 48; Percent complete: 69.6%\n",
      "Iteration: 49; Percent complete: 71.0%\n",
      "Iteration: 50; Percent complete: 72.5%\n",
      "Iteration: 51; Percent complete: 73.9%\n",
      "Iteration: 52; Percent complete: 75.4%\n",
      "Iteration: 53; Percent complete: 76.8%\n",
      "Iteration: 54; Percent complete: 78.3%\n",
      "Iteration: 55; Percent complete: 79.7%\n",
      "Iteration: 56; Percent complete: 81.2%\n",
      "Iteration: 57; Percent complete: 82.6%\n",
      "Iteration: 58; Percent complete: 84.1%\n",
      "Iteration: 59; Percent complete: 85.5%\n",
      "Iteration: 60; Percent complete: 87.0%\n",
      "Iteration: 61; Percent complete: 88.4%\n",
      "Iteration: 62; Percent complete: 89.9%\n",
      "Iteration: 63; Percent complete: 91.3%\n",
      "Iteration: 64; Percent complete: 92.8%\n",
      "Iteration: 65; Percent complete: 94.2%\n",
      "Iteration: 66; Percent complete: 95.7%\n",
      "Iteration: 67; Percent complete: 97.1%\n",
      "Iteration: 68; Percent complete: 98.6%\n",
      "Iteration: 69; Percent complete: 100.0%\n"
     ]
    }
   ],
   "source": [
    "# Fix random state for reproducibility\n",
    "random.seed(2019)\n",
    "\n",
    "# Tell torch to use GPU. Note that if you are running this notebook in a non-GPU environment, you can change 'cuda' to 'cpu' to get the code to run.\n",
    "# device = torch.device('cuda')\n",
    "device = torch.device('cpu')\n",
    "\n",
    "print(\"Loading saved parameters...\")\n",
    "# checkpoint = torch.load(os.path.join(save_dir, \"finetuned_model.tar\"))\n",
    "# If running in a non-GPU environment, you need to tell PyTorch to convert the parameters to CPU tensor format.\n",
    "# To do so, replace the previous line with the following:\n",
    "checkpoint = torch.load(os.path.join(save_dir, \"finetuned_model.tar\"), map_location=torch.device('cpu'))\n",
    "encoder_sd = checkpoint['en']\n",
    "context_sd = checkpoint['ctx']\n",
    "attack_clf_sd = checkpoint['atk_clf']\n",
    "embedding_sd = checkpoint['embedding']\n",
    "voc.__dict__ = checkpoint['voc_dict']\n",
    "\n",
    "print('Building encoders, decoder, and classifier...')\n",
    "# Initialize word embeddings\n",
    "embedding = nn.Embedding(voc.num_words, hidden_size)\n",
    "embedding.load_state_dict(embedding_sd)\n",
    "# Initialize utterance and context encoders\n",
    "encoder = EncoderRNN(hidden_size, embedding, encoder_n_layers, dropout)\n",
    "context_encoder = ContextEncoderRNN(hidden_size, context_encoder_n_layers, dropout)\n",
    "encoder.load_state_dict(encoder_sd)\n",
    "context_encoder.load_state_dict(context_sd)\n",
    "# Initialize classifier\n",
    "attack_clf = SingleTargetClf(hidden_size, dropout)\n",
    "attack_clf.load_state_dict(attack_clf_sd)\n",
    "# Use appropriate device\n",
    "encoder = encoder.to(device)\n",
    "context_encoder = context_encoder.to(device)\n",
    "attack_clf = attack_clf.to(device)\n",
    "print('Models built and ready to go!')\n",
    "\n",
    "# Set dropout layers to eval mode\n",
    "encoder.eval()\n",
    "context_encoder.eval()\n",
    "attack_clf.eval()\n",
    "\n",
    "# Initialize the pipeline\n",
    "predictor = Predictor(encoder, context_encoder, attack_clf)\n",
    "\n",
    "# Run the pipeline!\n",
    "forecasts_df = evaluateDataset(test_pairs, encoder, context_encoder, predictor, voc, batch_size, device)"
   ]
  },
  {
   "cell_type": "code",
   "execution_count": 15,
   "metadata": {
    "colab": {
     "base_uri": "https://localhost:8080/",
     "height": 708
    },
    "id": "lVK-1NWHEy7l",
    "outputId": "8b208593-4f96-444f-ad6c-cb84c0ffd88b"
   },
   "outputs": [
    {
     "data": {
      "text/html": [
       "<div>\n",
       "<style scoped>\n",
       "    .dataframe tbody tr th:only-of-type {\n",
       "        vertical-align: middle;\n",
       "    }\n",
       "\n",
       "    .dataframe tbody tr th {\n",
       "        vertical-align: top;\n",
       "    }\n",
       "\n",
       "    .dataframe thead th {\n",
       "        text-align: right;\n",
       "    }\n",
       "</style>\n",
       "<table border=\"1\" class=\"dataframe\">\n",
       "  <thead>\n",
       "    <tr style=\"text-align: right;\">\n",
       "      <th></th>\n",
       "      <th>prediction</th>\n",
       "      <th>score</th>\n",
       "    </tr>\n",
       "    <tr>\n",
       "      <th>id</th>\n",
       "      <th></th>\n",
       "      <th></th>\n",
       "    </tr>\n",
       "  </thead>\n",
       "  <tbody>\n",
       "    <tr>\n",
       "      <th>191681310.17214.17214</th>\n",
       "      <td>1.0</td>\n",
       "      <td>0.535034</td>\n",
       "    </tr>\n",
       "    <tr>\n",
       "      <th>193088419.20001.20001</th>\n",
       "      <td>1.0</td>\n",
       "      <td>0.545420</td>\n",
       "    </tr>\n",
       "    <tr>\n",
       "      <th>191149920.17102.17102</th>\n",
       "      <td>1.0</td>\n",
       "      <td>0.528794</td>\n",
       "    </tr>\n",
       "    <tr>\n",
       "      <th>192892110.19259.19259</th>\n",
       "      <td>1.0</td>\n",
       "      <td>0.544033</td>\n",
       "    </tr>\n",
       "    <tr>\n",
       "      <th>190192199.17060.17060</th>\n",
       "      <td>1.0</td>\n",
       "      <td>0.511850</td>\n",
       "    </tr>\n",
       "    <tr>\n",
       "      <th>192890095.19227.19227</th>\n",
       "      <td>1.0</td>\n",
       "      <td>0.546285</td>\n",
       "    </tr>\n",
       "    <tr>\n",
       "      <th>190192005.17004.17004</th>\n",
       "      <td>0.0</td>\n",
       "      <td>0.497001</td>\n",
       "    </tr>\n",
       "    <tr>\n",
       "      <th>192885632.19156.19156</th>\n",
       "      <td>1.0</td>\n",
       "      <td>0.533676</td>\n",
       "    </tr>\n",
       "    <tr>\n",
       "      <th>190191827.16918.16918</th>\n",
       "      <td>1.0</td>\n",
       "      <td>0.510248</td>\n",
       "    </tr>\n",
       "    <tr>\n",
       "      <th>192882222.19129.19129</th>\n",
       "      <td>1.0</td>\n",
       "      <td>0.508171</td>\n",
       "    </tr>\n",
       "    <tr>\n",
       "      <th>190191097.16843.16843</th>\n",
       "      <td>1.0</td>\n",
       "      <td>0.516698</td>\n",
       "    </tr>\n",
       "    <tr>\n",
       "      <th>192642615.19074.19074</th>\n",
       "      <td>1.0</td>\n",
       "      <td>0.518183</td>\n",
       "    </tr>\n",
       "    <tr>\n",
       "      <th>190190570.16705.16705</th>\n",
       "      <td>1.0</td>\n",
       "      <td>0.525741</td>\n",
       "    </tr>\n",
       "    <tr>\n",
       "      <th>203899060.13359.13359</th>\n",
       "      <td>1.0</td>\n",
       "      <td>0.623680</td>\n",
       "    </tr>\n",
       "    <tr>\n",
       "      <th>15869198.3976.3976</th>\n",
       "      <td>1.0</td>\n",
       "      <td>0.525385</td>\n",
       "    </tr>\n",
       "    <tr>\n",
       "      <th>192640416.19036.19036</th>\n",
       "      <td>1.0</td>\n",
       "      <td>0.505882</td>\n",
       "    </tr>\n",
       "    <tr>\n",
       "      <th>190189346.16645.16645</th>\n",
       "      <td>1.0</td>\n",
       "      <td>0.512706</td>\n",
       "    </tr>\n",
       "    <tr>\n",
       "      <th>203898053.13222.13222</th>\n",
       "      <td>1.0</td>\n",
       "      <td>0.597459</td>\n",
       "    </tr>\n",
       "    <tr>\n",
       "      <th>390066809.29445.29445</th>\n",
       "      <td>1.0</td>\n",
       "      <td>0.542075</td>\n",
       "    </tr>\n",
       "    <tr>\n",
       "      <th>434001261.9906.9906</th>\n",
       "      <td>1.0</td>\n",
       "      <td>0.561014</td>\n",
       "    </tr>\n",
       "  </tbody>\n",
       "</table>\n",
       "</div>"
      ],
      "text/plain": [
       "                       prediction     score\n",
       "id                                         \n",
       "191681310.17214.17214         1.0  0.535034\n",
       "193088419.20001.20001         1.0  0.545420\n",
       "191149920.17102.17102         1.0  0.528794\n",
       "192892110.19259.19259         1.0  0.544033\n",
       "190192199.17060.17060         1.0  0.511850\n",
       "192890095.19227.19227         1.0  0.546285\n",
       "190192005.17004.17004         0.0  0.497001\n",
       "192885632.19156.19156         1.0  0.533676\n",
       "190191827.16918.16918         1.0  0.510248\n",
       "192882222.19129.19129         1.0  0.508171\n",
       "190191097.16843.16843         1.0  0.516698\n",
       "192642615.19074.19074         1.0  0.518183\n",
       "190190570.16705.16705         1.0  0.525741\n",
       "203899060.13359.13359         1.0  0.623680\n",
       "15869198.3976.3976            1.0  0.525385\n",
       "192640416.19036.19036         1.0  0.505882\n",
       "190189346.16645.16645         1.0  0.512706\n",
       "203898053.13222.13222         1.0  0.597459\n",
       "390066809.29445.29445         1.0  0.542075\n",
       "434001261.9906.9906           1.0  0.561014"
      ]
     },
     "execution_count": 15,
     "metadata": {},
     "output_type": "execute_result"
    }
   ],
   "source": [
    "# Inspect some of the outputs as a sanity-check\n",
    "forecasts_df.head(20)"
   ]
  },
  {
   "cell_type": "markdown",
   "metadata": {
    "id": "m_EMZ7-SKtEP"
   },
   "source": [
    "## Part 8: merge predictions back into corpus and evaluate\n",
    "\n",
    "Now that the hard part is done, all that is left to do is to evaluate the predictions. Since the predictions are in no particular order, we will first merge each prediction back into the source corpus, and then evaluate each conversation according to the order of utterances within that conversation."
   ]
  },
  {
   "cell_type": "code",
   "execution_count": 16,
   "metadata": {
    "id": "Vnjmtu-QLDVo"
   },
   "outputs": [],
   "source": [
    "# We will add a metadata entry to each test-set utterance signifying whether it was FORECAST to be a derailment.\n",
    "# Note that there is an important subtlety in how this metadata field is to be interpreted - the forecast for a given\n",
    "# utterance is made BEFORE the model actually sees the utterance. That is, the forecast does not mean \"the model thinks\n",
    "# this utterance *is* a derailment\" but rather that \"based on the context of all preceding utterances, the model predicted,\n",
    "# prior to actually seeing this utterance, that this utterance *would be* a derailment\".\n",
    "for convo in corpus.iter_conversations():\n",
    "    # only consider test set conversations (we did not make predictions for the other ones)\n",
    "    if convo.meta['split'] == \"test\":\n",
    "        for utt in convo.iter_utterances():\n",
    "            if utt.id in forecasts_df.index:\n",
    "                utt.meta['forecast_score'] = forecasts_df.loc[utt.id].score"
   ]
  },
  {
   "cell_type": "code",
   "execution_count": 17,
   "metadata": {
    "colab": {
     "base_uri": "https://localhost:8080/",
     "height": 35
    },
    "id": "FYxW_AuWszqX",
    "outputId": "d478288b-55ae-4bc9-cb8c-f294a80f3174"
   },
   "outputs": [
    {
     "name": "stdout",
     "output_type": "stream",
     "text": [
      "0.6059523809523809\n"
     ]
    }
   ],
   "source": [
    "# Finally, we can use the forecast-annotated corpus to compute the forecast accuracy.\n",
    "# Though we have an individual forecast per utterance, ground truth is at the conversation level:\n",
    "# either a conversation derails or it does not. Thus, forecast accuracy is computed as follows:\n",
    "#   - True positives are cases that actually derail, for which the model made at least one positive forecast ANYTIME prior to derailment\n",
    "#   - False positives are cases that don't derail but for which the model made at least one positive forecast\n",
    "#   - False negatives are cases that derail but for which the model made no positive forecasts prior to derailment\n",
    "#   - True negatives are cases that don't derail, for which the model made no positive forecasts\n",
    "# Note that by construction, the last comment of each conversation is the one marked as derailment, and that our earlier code was therefore\n",
    "# set up to not look at the last comment, meaning that all forecasts we obtained are forecasts made prior to derailment. This simplifies\n",
    "# the computation of forecast accuracy as we now do not need to explicitly consider when a forecast was made.\n",
    "\n",
    "conversational_forecasts_df = {\n",
    "    \"convo_id\": [],\n",
    "    \"label\": [],\n",
    "    \"score\": [],\n",
    "    \"prediction\": []\n",
    "}\n",
    "\n",
    "for convo in corpus.iter_conversations():\n",
    "    if convo.meta['split'] == \"test\":\n",
    "        conversational_forecasts_df['convo_id'].append(convo.id)\n",
    "        conversational_forecasts_df['label'].append(int(convo.meta[label_metadata]))\n",
    "        forecast_scores = [utt.meta['forecast_score'] for utt in convo.iter_utterances() if 'forecast_score' in utt.meta]\n",
    "        conversational_forecasts_df['score'] = np.max(forecast_scores)\n",
    "        conversational_forecasts_df['prediction'].append(int(np.max(forecast_scores) > forecast_thresh))\n",
    "\n",
    "conversational_forecasts_df = pd.DataFrame(conversational_forecasts_df).set_index(\"convo_id\")\n",
    "print((conversational_forecasts_df.label == conversational_forecasts_df.prediction).mean())"
   ]
  },
  {
   "cell_type": "code",
   "execution_count": 18,
   "metadata": {
    "colab": {
     "base_uri": "https://localhost:8080/",
     "height": 72
    },
    "id": "_49Yaz2FIo9S",
    "outputId": "d1ae7b87-6973-41a1-e7aa-806d57990c01"
   },
   "outputs": [
    {
     "name": "stdout",
     "output_type": "stream",
     "text": [
      "Precision = 0.7459, recall = 0.3214\n",
      "False positive rate = 0.10952380952380952\n",
      "F1 = 0.4492512479201331\n"
     ]
    }
   ],
   "source": [
    "# in addition to accuracy, we can also consider applying other metrics at the conversation level, such as precision/recall\n",
    "def get_pr_stats(preds, labels):\n",
    "    tp = ((labels==1)&(preds==1)).sum()\n",
    "    fp = ((labels==0)&(preds==1)).sum()\n",
    "    tn = ((labels==0)&(preds==0)).sum()\n",
    "    fn = ((labels==1)&(preds==0)).sum()\n",
    "    print(\"Precision = {0:.4f}, recall = {1:.4f}\".format(tp / (tp + fp), tp / (tp + fn)))\n",
    "    print(\"False positive rate =\", fp / (fp + tn))\n",
    "    print(\"F1 =\", 2 / (((tp + fp) / tp) + ((tp + fn) / tp)))\n",
    "\n",
    "get_pr_stats(conversational_forecasts_df.prediction, conversational_forecasts_df.label)"
   ]
  },
  {
   "cell_type": "markdown",
   "metadata": {
    "id": "WzBiI0dsW7WZ"
   },
   "source": [
    "## Part 9: model analysis: how early is early warning?\n",
    "\n",
    "The goal of CRAFT is to forecast outcomes in advance, but how far in advance does it typically make its prediction? Following the paper, we measure this in two ways: the number of *comments* between the first prediction and the actual derailment, and how much *elapsed time* that gap actually translates to."
   ]
  },
  {
   "cell_type": "code",
   "execution_count": 19,
   "metadata": {
    "id": "8Qfvl9k8Xesh"
   },
   "outputs": [],
   "source": [
    "comments_until_derail = {} # store the \"number of comments until derailment\" metric for each conversation\n",
    "time_until_derail = {} # store the \"time until derailment\" metric for each conversation\n",
    "\n",
    "for convo in corpus.iter_conversations():\n",
    "    if convo.meta['split'] == \"test\" and convo.meta[label_metadata]:\n",
    "        # filter out the section header as usual\n",
    "        utts = [utt for utt in convo.iter_utterances() if not utt.meta['is_section_header']]\n",
    "        # by construction, the last comment is the one with the personal attack\n",
    "        derail_idx = len(utts) - 1\n",
    "        # now scan the utterances in order until we find the first derailment prediction (if any)\n",
    "        for idx in range(1, len(utts)):\n",
    "            if utts[idx].meta['forecast_score'] > forecast_thresh:\n",
    "                # recall that the forecast_score meta field specifies what CRAFT thought this comment would look like BEFORE it\n",
    "                # saw this comment. So the actual CRAFT forecast is made during the previous comment; we account for this by \n",
    "                # subtracting 1 from idx\n",
    "                comments_until_derail[convo.id] = derail_idx - (idx-1)\n",
    "                time_until_derail[convo.id] = utts[derail_idx].timestamp - utts[(idx-1)].timestamp\n",
    "                break"
   ]
  },
  {
   "cell_type": "code",
   "execution_count": 20,
   "metadata": {
    "colab": {
     "base_uri": "https://localhost:8080/",
     "height": 35
    },
    "id": "IFXn4LrMhJ8W",
    "outputId": "26611644-8c44-4380-8897-b0de6eece0cd"
   },
   "outputs": [
    {
     "name": "stdout",
     "output_type": "stream",
     "text": [
      "1 10 2.0 2.3333333333333335\n"
     ]
    }
   ],
   "source": [
    "# compute some quick statistics about the distribution of the \"number of comments until derailment\" metric\n",
    "comments_until_derail_vals = np.asarray(list(comments_until_derail.values()))\n",
    "print(np.min(comments_until_derail_vals), np.max(comments_until_derail_vals), np.median(comments_until_derail_vals), np.mean(comments_until_derail_vals))"
   ]
  },
  {
   "cell_type": "code",
   "execution_count": 21,
   "metadata": {
    "colab": {
     "base_uri": "https://localhost:8080/",
     "height": 35
    },
    "id": "7cTdzAuLhuHF",
    "outputId": "85df20c5-62e1-4d2c-8736-8432a65f55ac"
   },
   "outputs": [
    {
     "name": "stdout",
     "output_type": "stream",
     "text": [
      "0.01611111111111111 5156.738333333334 1.2075 118.60402469135803\n"
     ]
    }
   ],
   "source": [
    "# compute some quick statistics about the distribution of the \"time until derailment\" metric\n",
    "# note that since timestamps are in seconds, we convert to hours by dividing by 3600, to make it more human readable\n",
    "time_until_derail_vals = np.asarray(list(time_until_derail.values())) / 3600\n",
    "print(np.min(time_until_derail_vals), np.max(time_until_derail_vals), np.median(time_until_derail_vals), np.mean(time_until_derail_vals))"
   ]
  },
  {
   "cell_type": "code",
   "execution_count": 22,
   "metadata": {
    "colab": {
     "base_uri": "https://localhost:8080/",
     "height": 362
    },
    "id": "_w3l6UxDiDAz",
    "outputId": "7de51fb0-dbb9-42f2-8d5f-18fcda28ab00"
   },
   "outputs": [
    {
     "data": {
      "image/png": "[encoded data removed]",
      "text/plain": [
       "<Figure size 720x360 with 1 Axes>"
      ]
     },
     "metadata": {
      "needs_background": "light"
     },
     "output_type": "display_data"
    }
   ],
   "source": [
    "# visualize the distribution of \"number of comments until derailment\" as a histogram (reproducing Figure 4 from the paper)\n",
    "plt.rcParams['figure.figsize'] = (10.0, 5.0)\n",
    "plt.rcParams['font.size'] = 24\n",
    "plt.hist(comments_until_derail_vals, bins=range(1, np.max(comments_until_derail_vals)), density=True)\n",
    "plt.xlim(1,10)\n",
    "plt.xticks(np.arange(1,10)+0.5, np.arange(1,10))\n",
    "plt.yticks(np.arange(0,0.25,0.05), np.arange(0,25,5))\n",
    "plt.xlabel(\"Number of comments elapsed\")\n",
    "plt.ylabel(\"% of conversations\")\n",
    "plt.show()"
   ]
  },
  {
   "cell_type": "code",
   "execution_count": 23,
   "metadata": {},
   "outputs": [
    {
     "data": {
      "text/plain": [
       "{'203891639.12506.12506': 2,\n",
       " '427681986.31007.31007': 1,\n",
       " '114627125.3150.3150': 1,\n",
       " '306471894.3660.3660': 1,\n",
       " '289911799.5115.5115': 1,\n",
       " '437269947.14688.14688': 1,\n",
       " '297725189.64722.64722': 6,\n",
       " '315025554.6590.6590': 1,\n",
       " '46858832.26892.26892': 1,\n",
       " '200598687.13150.13150': 1,\n",
       " '371868127.2715.2715': 2,\n",
       " '654855584.12767.12767': 2,\n",
       " '380375178.1794.1770': 2,\n",
       " '153373392.15186.15186': 2,\n",
       " '173258711.27876.27876': 10,\n",
       " '551297239.1848.1848': 1,\n",
       " '667134702.8503.8503': 1,\n",
       " '301618123.19649.19649': 1,\n",
       " '69614928.3050.3050': 1,\n",
       " '32302663.8843.8843': 3,\n",
       " '274481213.24594.24594': 2,\n",
       " '356860396.2753.2753': 1,\n",
       " '73543963.4142.4142': 1,\n",
       " '225070854.920.920': 3,\n",
       " '159670819.4392.4392': 1,\n",
       " '195667280.1692.1692': 1,\n",
       " '170838027.6786.6786': 3,\n",
       " '593252364.30233.30233': 3,\n",
       " '463379283.1736.1736': 2,\n",
       " '763331394.8705.8705': 1,\n",
       " '554389863.3049.3049': 1,\n",
       " '337479181.2630.2630': 1,\n",
       " '69614928.3028.3028': 1,\n",
       " '266672416.14406.14406': 1,\n",
       " '665785790.8879.8879': 1,\n",
       " '308547937.619.619': 2,\n",
       " '48460520.4940.4940': 1,\n",
       " '261549717.6141.6141': 1,\n",
       " '570690471.2411.2413': 1,\n",
       " '180183205.13067.13067': 1,\n",
       " '222903727.97064.97064': 3,\n",
       " '28232293.14627.14627': 1,\n",
       " '212122019.22535.22535': 3,\n",
       " '386850135.6436.6436': 2,\n",
       " '72245815.88202.88202': 1,\n",
       " '15640249.0.0': 3,\n",
       " '573992586.26471.26471': 3,\n",
       " '329906881.31616.31616': 2,\n",
       " '596847240.73370.73370': 2,\n",
       " '226548499.65141.65141': 1,\n",
       " '123338958.57575.57575': 2,\n",
       " '30500497.94280.94280': 1,\n",
       " '197971268.112783.112758': 4,\n",
       " '655911523.19584.19584': 4,\n",
       " '459515127.120998.120998': 3,\n",
       " '118773143.295281.295281': 3,\n",
       " '644474412.22784.22784': 1,\n",
       " '356031930.18626.18626': 2,\n",
       " '546621482.4885.4885': 1,\n",
       " '284929887.15218.15218': 4,\n",
       " '306380568.297.297': 1,\n",
       " '312488039.8011.8011': 5,\n",
       " '321067413.20631.20631': 6,\n",
       " '240678384.19293.19293': 5,\n",
       " '291255336.112388.112388': 3,\n",
       " '577596313.3419.3419': 3,\n",
       " '613872565.99949.99949': 6,\n",
       " '512498577.49935.49935': 1,\n",
       " '500952289.13649.13649': 2,\n",
       " '565548871.101061.101061': 1,\n",
       " '3325287.86720.86720': 1,\n",
       " '59139771.26.26': 4,\n",
       " '842381507.9508.9508': 4,\n",
       " '139407294.103416.103416': 2,\n",
       " '197051452.49372.49372': 1,\n",
       " '225655655.17055.17055': 2,\n",
       " '234225698.40495.40495': 1,\n",
       " '202711287.49516.49516': 7,\n",
       " '124154930.215277.215211': 1,\n",
       " '130142184.21.21': 2,\n",
       " '225472200.53026.53026': 4,\n",
       " '153440869.6771.6771': 2,\n",
       " '209122887.102328.102328': 4,\n",
       " '350919846.97689.97689': 3,\n",
       " '312844590.31027.31027': 1,\n",
       " '9860404.13090.13090': 4,\n",
       " '253309610.37532.37532': 1,\n",
       " '94526037.13231.13231': 1,\n",
       " '45169947.10833.10833': 3,\n",
       " '41991382.52805.52805': 3,\n",
       " '571451725.13073.13073': 1,\n",
       " '580068105.84110.84110': 5,\n",
       " '428514403.4963.4963': 2,\n",
       " '21968107.6026.6026': 1,\n",
       " '428948370.54430.54430': 3,\n",
       " '600457267.12026.12026': 1,\n",
       " '693416150.36746.36746': 1,\n",
       " '1195308.2477.2477': 1,\n",
       " '303236895.126939.126761': 4,\n",
       " '297033823.130053.130053': 4,\n",
       " '72927733.10786.10786': 6,\n",
       " '100646530.28762.28762': 1,\n",
       " '487542576.118295.118295': 6,\n",
       " '590438630.41744.41744': 1,\n",
       " '40426081.151454.151454': 4,\n",
       " '482041507.258.258': 3,\n",
       " '685986989.15817.15817': 1,\n",
       " '102266992.271745.271745': 3,\n",
       " '172783979.9897.9897': 2,\n",
       " '543142607.2585.2585': 5,\n",
       " '229551256.66451.66451': 3,\n",
       " '631276806.289353.289353': 1,\n",
       " '667749241.44273.44273': 1,\n",
       " '822816567.13958.13958': 2,\n",
       " '705349752.50607.50607': 1,\n",
       " '217259988.29225.29225': 3,\n",
       " '134588266.14633.14633': 2,\n",
       " '7345880.119322.119322': 4,\n",
       " '111544183.27079.27079': 1,\n",
       " '696303528.13809.13809': 1,\n",
       " '115722135.22825.22815': 7,\n",
       " '482482089.90809.96072': 5,\n",
       " '248252732.243427.243427': 5,\n",
       " '459948499.206.206': 3,\n",
       " '163574688.33985.33985': 3,\n",
       " '223421212.27929.27929': 1,\n",
       " '56903840.7542.7542': 1,\n",
       " '85944267.24031.24031': 3,\n",
       " '647093870.4991.4991': 1,\n",
       " '428066439.33001.33001': 3,\n",
       " '281527053.52918.52918': 1,\n",
       " '130211170.71708.71708': 1,\n",
       " '221775836.39462.39462': 2,\n",
       " '33982772.724.724': 2,\n",
       " '136580720.181876.181876': 3}"
      ]
     },
     "execution_count": 23,
     "metadata": {},
     "output_type": "execute_result"
    }
   ],
   "source": [
    "comments_until_derail"
   ]
  },
  {
   "cell_type": "code",
   "execution_count": null,
   "metadata": {},
   "outputs": [],
   "source": []
  }
 ],
 "metadata": {
  "accelerator": "GPU",
  "colab": {
   "collapsed_sections": [],
   "name": "CRAFT fine-tuning demo using ConvoKit",
   "provenance": [],
   "toc_visible": true
  },
  "kernelspec": {
   "display_name": "Python 3",
   "language": "python",
   "name": "python3"
  },
  "language_info": {
   "codemirror_mode": {
    "name": "ipython",
    "version": 3
   },
   "file_extension": ".py",
   "mimetype": "text/x-python",
   "name": "python",
   "nbconvert_exporter": "python",
   "pygments_lexer": "ipython3",
   "version": "3.8.5"
  }
 },
 "nbformat": 4,
 "nbformat_minor": 4
}
